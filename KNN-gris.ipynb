{
 "cells": [
  {
   "cell_type": "markdown",
   "metadata": {},
   "source": [
    "# KNN Gris"
   ]
  },
  {
   "cell_type": "markdown",
   "metadata": {},
   "source": [
    "Robots Autónomos. Mapas Topológicos visuales\n",
    "\n",
    "Autores:\n",
    "    Alejandro Benítez López, Elena Benito Frey, Mario González Carbayo, Isidro López Dominguez, Blanca Martínez Donoso y Ángel Pavón Pérez"
   ]
  },
  {
   "cell_type": "code",
   "execution_count": 1,
   "metadata": {},
   "outputs": [],
   "source": [
    "import cv2\n",
    "import numpy as np\n",
    "import glob\n",
    "import os\n",
    "import matplotlib.pyplot as plt \n",
    "import pickle\n",
    "import pathlib\n",
    "import random\n",
    "import statistics as stats\n",
    "\n",
    "directory = os.getcwd() + \"/\""
   ]
  },
  {
   "cell_type": "markdown",
   "metadata": {},
   "source": [
    "Cargamos un array con todos los frames del video ya clasificados:"
   ]
  },
  {
   "cell_type": "code",
   "execution_count": 2,
   "metadata": {},
   "outputs": [],
   "source": [
    "try:\n",
    "    frames = pickle.load(open(directory + \"clasificacion_frames.sav\", 'rb'))\n",
    "except:\n",
    "    print(\"Falta el fichero \\\"clasificacion_frames.sav\\\".\")\n",
    "    print(\"Se puede generar del \\\"classify-video-frames.ipynb\\\"\")"
   ]
  },
  {
   "cell_type": "markdown",
   "metadata": {},
   "source": [
    "Se calculan los histogramas y se normalizan:"
   ]
  },
  {
   "cell_type": "code",
   "execution_count": 6,
   "metadata": {
    "scrolled": true
   },
   "outputs": [
    {
     "name": "stdout",
     "output_type": "stream",
     "text": [
      "Landmark 0. Number Of Histograms: 73\n",
      "Landmark 1. Number Of Histograms: 135\n",
      "Landmark 2. Number Of Histograms: 228\n",
      "Landmark 3. Number Of Histograms: 310\n",
      "Landmark 4. Number Of Histograms: 371\n",
      "Landmark 5. Number Of Histograms: 458\n",
      "Landmark 6. Number Of Histograms: 536\n",
      "Landmark 7. Number Of Histograms: 599\n",
      "Landmark 8. Number Of Histograms: 664\n"
     ]
    }
   ],
   "source": [
    "# para hacer los calculos mas eficientes se reduce las imagenes a esta resolucion\n",
    "output_dimension = (848, 480)\n",
    "\n",
    "# diccionario donde se guardaran todos los histogramas\n",
    "hist_dict = {}\n",
    "\n",
    "for i in range(9):\n",
    "    # cargamos las imagenes de landmark\n",
    "    filenames = [img for img in glob.glob(directory + \"landmarks_img/\"+ str(i) + \"/*.jpg\")]\n",
    "    filenames.sort()\n",
    "\n",
    "    images    = [cv2.imread(img,cv2.IMREAD_GRAYSCALE) for img in filenames]\n",
    "    img_names = [os.path.basename(img)                for img in filenames]\n",
    "    \n",
    "    # para todas las imagenes cargadas de este landmark:\n",
    "    for j, img in enumerate(images):\n",
    "        # se redimensiona la imagen\n",
    "        res_img = cv2.resize(img, output_dimension, interpolation=cv2.INTER_CUBIC)\n",
    "            \n",
    "        # se calcula el histograma en escala de grises\n",
    "        hist = cv2.calcHist([img],[0],None,[256],[0,256])\n",
    "        \n",
    "        # se calcula el historgama normalizado\n",
    "        hist_norm = hist / (output_dimension[0] * output_dimension[1])\n",
    "        \n",
    "\n",
    "        # se añade al diccionario. La clave es el nombre de la imagen y el valor es su histograma normalizado \n",
    "        hist_dict[img_names[j]] = hist_norm \n",
    "        \n",
    "        \n",
    "    print(f\"Landmark {i}. Number Of Histograms: {str(len(hist_dict))}\")\n"
   ]
  },
  {
   "cell_type": "markdown",
   "metadata": {},
   "source": [
    "Se define la funcion de KNN:"
   ]
  },
  {
   "cell_type": "code",
   "execution_count": 4,
   "metadata": {},
   "outputs": [],
   "source": [
    "def knn(img, hist_dict):\n",
    "\n",
    "    # se calcula el histograma en escala de grises\n",
    "    hist = cv2.calcHist([img],[0],None,[256],[0,256])\n",
    "    \n",
    "    # se calcula el historgama normalizado\n",
    "    hist = hist / (output_dimension[0] * output_dimension[1])\n",
    "   \n",
    "    min_distance = 1000000\n",
    "    min_key = ''\n",
    "    \n",
    "    # busca el histograma mas parecido por la distancia euclidea\n",
    "    for key, value in hist_dict.items():\n",
    "        \n",
    "        distance = np.linalg.norm(value-hist)\n",
    "        \n",
    "        if distance < min_distance:\n",
    "            min_distance = distance\n",
    "            min_key = key\n",
    "    \n",
    "    # devuelve el numero del landmark mas cercano\n",
    "    return int(min_key[9])"
   ]
  },
  {
   "cell_type": "markdown",
   "metadata": {},
   "source": [
    "## Prueba estática"
   ]
  },
  {
   "cell_type": "code",
   "execution_count": 5,
   "metadata": {},
   "outputs": [
    {
     "name": "stdout",
     "output_type": "stream",
     "text": [
      "Porcentaje por cada landmark:\n",
      "\t[100.0, 100.0, 100.0, 100.0, 100.0, 100.0, 100.0, 100.0, 100.0]\n",
      "Porcentaje medio:\n",
      "\t100.0\n"
     ]
    }
   ],
   "source": [
    "# se obtienen todas las imagenes de validacion (20% del total de cada landmark)\n",
    "filenames = [img for img in glob.glob(directory + \"landmarks_img/validation/*.jpg\")]\n",
    "if len(filenames) > 0:\n",
    "    filenames.sort()\n",
    "\n",
    "    all_img      = [0] * 9\n",
    "    aciertos_img = [0] * 9\n",
    "\n",
    "    for f in filenames:\n",
    "        # se lee la imagen en escala de grises, su nombre y se calcula su histograma con knn()\n",
    "        img = cv2.imread(f, cv2.IMREAD_GRAYSCALE)\n",
    "        name = os.path.basename(f)\n",
    "        landmark = knn(img, hist_dict)\n",
    "\n",
    "        # se incrementa el uno el total de imagenes del landmark original\n",
    "        all_img[int(name[9])] +=1\n",
    "\n",
    "        # solo si se acierta, se incrementa el uno los aciertos en ese landmark\n",
    "        if int(name[9]) == int(landmark):\n",
    "            aciertos_img[int(name[9])] += 1\n",
    "        else:\n",
    "            print(f\"Fallo en {name}\")\n",
    "\n",
    "\n",
    "    # se saca el porcentaje parcial y total:\n",
    "    porcentaje_total = []\n",
    "\n",
    "    for i in range(len(all_img)):\n",
    "        x = (aciertos_img[i] * 100) / all_img[i]\n",
    "        porcentaje_total.append(x)\n",
    "\n",
    "    print(\"Porcentaje por cada landmark:\")\n",
    "    print(\"\\t\" + str(porcentaje_total))\n",
    "    print(\"Porcentaje medio:\")\n",
    "    print(\"\\t\" + str(stats.mean(porcentaje_total)))\n",
    "    \n",
    "else:\n",
    "    print(\"No hay imagenes en la carpeta de \\\"validation\\\"\")\n",
    "    print(\"Asegurate de generarlo ejecutando \\\"generate-validation-set-ipynb\\\"\")"
   ]
  },
  {
   "cell_type": "markdown",
   "metadata": {},
   "source": [
    "## Prueba dinámica"
   ]
  },
  {
   "cell_type": "code",
   "execution_count": 8,
   "metadata": {
    "scrolled": true
   },
   "outputs": [
    {
     "name": "stdout",
     "output_type": "stream",
     "text": [
      "Porcentaje por cada landmark:\n",
      "\t[77.20465890183029, 90.0489396411093, 24.4258872651357, 98.79518072289157, 80.8411214953271, 96.82539682539682, 93.10344827586206, 38.72053872053872, 96.84763572679509]\n",
      "Porcentaje medio:\n",
      "\t77.42364528609852\n"
     ]
    }
   ],
   "source": [
    "# se carga el video\n",
    "cap = cv2.VideoCapture(directory + 'walk-through.mp4')\n",
    "\n",
    "frame_count = 0\n",
    "\n",
    "# estadisticas de aciertos\n",
    "all_img      = [0] * 9\n",
    "aciertos_img = [0] * 9\n",
    "\n",
    "while(True):\n",
    "    \n",
    "    ret, frame = cap.read()\n",
    "    \n",
    "    if ret:\n",
    "        \n",
    "        frame = cv2.cvtColor(frame, cv2.COLOR_BGR2GRAY) \n",
    "        \n",
    "        all_img[frames[frame_count]] += 1\n",
    "        \n",
    "        k = cv2.waitKey(1)\n",
    "        \n",
    "        if k & 0xFF == ord('q'):\n",
    "            break\n",
    "        \n",
    "        # el video tiene una resolucion de 1920x1080 y nuestro knn esta entrenado con imagenes de 848x480\n",
    "        # asi que tenemos que redimensionar la imagen\n",
    "        ri = cv2.resize(frame, output_dimension)\n",
    "        \n",
    "        # se usa el knn() para el frame actual\n",
    "        landmark = knn(ri, hist_dict)\n",
    "        \n",
    "        if landmark == frames[frame_count]:\n",
    "            aciertos_img[landmark] += 1\n",
    "        \n",
    "        # se pinta texto en el frame indicando el landmark predecido por el knn\n",
    "        cv2.putText(ri,  \n",
    "                'predict landmark = ' + str(landmark),  \n",
    "                (25, 40),  \n",
    "                cv2.FONT_HERSHEY_SIMPLEX ,0.7,  \n",
    "                (0, 255, 255),  \n",
    "                2,  \n",
    "                cv2.LINE_4) \n",
    "        \n",
    "        # se pinta texto en el frame indicando el landmark que hemos determinado nosotros para este frame\n",
    "        cv2.putText(ri,  \n",
    "                'real landmark = ' + str(frames[frame_count]),  \n",
    "                (25, 80),  \n",
    "                cv2.FONT_HERSHEY_SIMPLEX , 0.7,  \n",
    "                (0, 255, 255),  \n",
    "                2,  \n",
    "                cv2.LINE_4) \n",
    "               \n",
    "        cv2.imshow('Prueba dinamica color',ri)\n",
    "        frame_count +=1\n",
    "    else:\n",
    "        break     \n",
    "\n",
    "cap.release()\n",
    "cv2.destroyAllWindows()\n",
    "\n",
    "# se saca el porcentaje parcial y total:\n",
    "porcentaje_total = []\n",
    "\n",
    "for i in range(len(all_img)):\n",
    "    x = (aciertos_img[i] * 100) / all_img[i]\n",
    "    porcentaje_total.append(x)\n",
    "\n",
    "print(\"Porcentaje por cada landmark:\")\n",
    "print(\"\\t\" + str(porcentaje_total))\n",
    "print(\"Porcentaje medio:\")\n",
    "print(\"\\t\" + str(stats.mean(porcentaje_total)))\n"
   ]
  }
 ],
 "metadata": {
  "kernelspec": {
   "display_name": "Python 3",
   "language": "python",
   "name": "python3"
  },
  "language_info": {
   "codemirror_mode": {
    "name": "ipython",
    "version": 3
   },
   "file_extension": ".py",
   "mimetype": "text/x-python",
   "name": "python",
   "nbconvert_exporter": "python",
   "pygments_lexer": "ipython3",
   "version": "3.8.5"
  }
 },
 "nbformat": 4,
 "nbformat_minor": 2
}
