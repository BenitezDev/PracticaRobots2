{
 "cells": [
  {
   "cell_type": "markdown",
   "metadata": {},
   "source": [
    "# Generar el conjunto de validación"
   ]
  },
  {
   "cell_type": "markdown",
   "metadata": {},
   "source": [
    "Robots Autónomos. Mapas Topológicos visuales\n",
    "\n",
    "Autores:\n",
    "    Alejandro Benítez López, Elena Benito Frey, Mario González Carbayo, Isidro López Dominguez, Blanca Martínez Donoso y Ángel Pavón Pérez"
   ]
  },
  {
   "cell_type": "code",
   "execution_count": 1,
   "metadata": {},
   "outputs": [],
   "source": [
    "import shutil\n",
    "import glob\n",
    "import os\n",
    "import random\n",
    "\n",
    "directory = os.getcwd() + \"/\""
   ]
  },
  {
   "cell_type": "markdown",
   "metadata": {},
   "source": [
    "### Generar el conjunto"
   ]
  },
  {
   "cell_type": "markdown",
   "metadata": {},
   "source": [
    "Se selecciona aleatoriamente un conjunto de imágenes y las mueve a la carpeta deseada."
   ]
  },
  {
   "cell_type": "code",
   "execution_count": 19,
   "metadata": {},
   "outputs": [],
   "source": [
    "# porcentaje de los datos que se va a usar como conjunto de validacion\n",
    "validation_percentaje = 0.20\n",
    "\n",
    "# directorio donde se guardaran las imagenes de validacion\n",
    "destination = directory + \"landmarks_img/validation/\"\n",
    "\n",
    "for i in range(9):\n",
    "    filenames = [img for img in glob.glob(directory + \"landmarks_img/\"+ str(i) + \"/*.jpg\")]\n",
    "    validation_items = int(validation_percentaje * len(filenames))\n",
    "    random.shuffle(filenames)\n",
    "    \n",
    "    validation_images = filenames[:validation_items]\n",
    "        \n",
    "    for img in validation_images:\n",
    "        shutil.move(img, destination + os.path.basename(img))"
   ]
  },
  {
   "cell_type": "markdown",
   "metadata": {},
   "source": [
    "### Revierte el conjunto"
   ]
  },
  {
   "cell_type": "markdown",
   "metadata": {},
   "source": [
    "Revierte el proceso anterior. Vacia la carpeta de ```validation``` y mueve sus imágenes a sus carpetas correspondientes."
   ]
  },
  {
   "cell_type": "code",
   "execution_count": 20,
   "metadata": {},
   "outputs": [],
   "source": [
    "filenames = [img for img in glob.glob(directory + \"landmarks_img/validation/*.jpg\")]\n",
    "\n",
    "for img in filenames:\n",
    "    folder = os.path.basename(img)[9]\n",
    "    shutil.move(img, directory + \"landmarks_img/\" + str(folder) + \"/\" + os.path.basename(img))"
   ]
  }
 ],
 "metadata": {
  "kernelspec": {
   "display_name": "Python 3",
   "language": "python",
   "name": "python3"
  },
  "language_info": {
   "codemirror_mode": {
    "name": "ipython",
    "version": 3
   },
   "file_extension": ".py",
   "mimetype": "text/x-python",
   "name": "python",
   "nbconvert_exporter": "python",
   "pygments_lexer": "ipython3",
   "version": "3.8.5"
  }
 },
 "nbformat": 4,
 "nbformat_minor": 2
}
