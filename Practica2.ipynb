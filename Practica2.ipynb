{
 "cells": [
  {
   "cell_type": "markdown",
   "metadata": {},
   "source": [
    "# Practica 2 robots"
   ]
  },
  {
   "cell_type": "code",
   "execution_count": 12,
   "metadata": {},
   "outputs": [],
   "source": [
    "import cv2\n",
    "import numpy as np\n",
    "import glob\n",
    "import os\n",
    "import matplotlib.pyplot as plt \n",
    "import pickle\n",
    "import pathlib\n",
    "\n",
    "\n",
    "\n",
    "directory = \"D:\\\\Robots\\\\PracticaRobots2\\\\\" # cambiar aqui"
   ]
  },
  {
   "cell_type": "markdown",
   "metadata": {},
   "source": [
    "Para cargar un video y sacar capturas de él:"
   ]
  },
  {
   "cell_type": "code",
   "execution_count": 2,
   "metadata": {},
   "outputs": [],
   "source": [
    "cap = cv2.VideoCapture(directory + 'habitacion_juegos.mp4') # cambiar aqui\n",
    "\n",
    "image_count = 0 \n",
    "\n",
    "while(True):\n",
    "    \n",
    "    ret, frame = cap.read()\n",
    "    \n",
    "    if ret:\n",
    "\n",
    "        cv2.imshow('habitacion_roja',frame)\n",
    "\n",
    "        k = cv2.waitKey(10) # a mayor numero mas lento va\n",
    "        \n",
    "        if k & 0xFF == ord('q'):\n",
    "            break\n",
    "\n",
    "        if k==32:    # tecla espacio\n",
    "            \n",
    "            # ojito que esto sobreescribe si hay una imagen ya...\n",
    "            cv2.imwrite(directory + \"juegos_oficina\\\\landmark_\" + str(image_count) + \".jpg\", frame) # cambiar aqui\n",
    "            image_count+=1\n",
    "    else:\n",
    "        break\n",
    "\n",
    "    \n",
    "cap.release()\n",
    "cv2.destroyAllWindows()"
   ]
  },
  {
   "cell_type": "markdown",
   "metadata": {},
   "source": [
    "Sacar los histogramas:"
   ]
  },
  {
   "cell_type": "code",
   "execution_count": 25,
   "metadata": {},
   "outputs": [],
   "source": [
    "def load_images(filenames, gray_scale=True):\n",
    "    \"\"\"\n",
    "        Load multiple images.\n",
    "        \n",
    "        Parameters:\n",
    "            filename is an array of paths\n",
    "            gray_scale whether the images will be load in gray scale or not \n",
    "            \n",
    "        Returns:\n",
    "            (images, images_name)\n",
    "    \"\"\"\n",
    "    \n",
    "    filenames.sort()\n",
    "    images = []\n",
    "    images_names = []\n",
    "    \n",
    "    u=0\n",
    "    for img in filenames:\n",
    "        if gray_scale:\n",
    "            i = cv2.imread(img)\n",
    "            gray = cv2.cvtColor(i, cv2.COLOR_BGR2GRAY)\n",
    "            images.append(gray)\n",
    "        else:\n",
    "            images.append(cv2.imread(img))\n",
    "            \n",
    "        images_names.append(os.path.basename(filenames[u]))\n",
    "        u+=1\n",
    "    \n",
    "    return (images, images_names)"
   ]
  },
  {
   "cell_type": "markdown",
   "metadata": {},
   "source": [
    "Renombrar los landmarks: (ya no deberia usarse)"
   ]
  },
  {
   "cell_type": "code",
   "execution_count": null,
   "metadata": {},
   "outputs": [],
   "source": [
    "estas_seguro = False\n",
    "\n",
    "if estas_seguro: # por si acaso lo ejecutamos sin querer\n",
    "    for l in range(1,10):\n",
    "        f = 0\n",
    "        for path in pathlib.Path(directory + 'landmarks_img/'+ str(l)).iterdir():\n",
    "            if path.is_file():\n",
    "\n",
    "                old_name = path.stem\n",
    "\n",
    "                old_extension = path.suffix\n",
    "\n",
    "                new_name = 'landmark_' + str(l-1) + '_frame_' + str(f) + old_extension\n",
    "\n",
    "                path.rename(pathlib.Path(directory + 'landmarks_img/'+ str(l), new_name))\n",
    "                f+=1\n"
   ]
  },
  {
   "cell_type": "markdown",
   "metadata": {},
   "source": [
    "Se calculan los histogramas, se normalizan y se guardan en local"
   ]
  },
  {
   "cell_type": "code",
   "execution_count": null,
   "metadata": {},
   "outputs": [],
   "source": [
    "# codigo para cargar el archivo\n",
    "def load_pickle(filename):\n",
    "    return pickle.load(open(filename, 'rb'))\n",
    "\n"
   ]
  },
  {
   "cell_type": "code",
   "execution_count": 43,
   "metadata": {},
   "outputs": [],
   "source": [
    "all_hist = []\n",
    "\n",
    "for l in range(9):\n",
    "    filenames = [img for img in glob.glob(directory + \"landmarks_img/\" + str(l)+ \"/*.jpg\")]\n",
    "    filenames.sort()\n",
    "\n",
    "    images    = [cv2.imread(img, cv2.IMREAD_GRAYSCALE) for img in filenames]\n",
    "    img_names = [os.path.basename(img)                 for img in filenames]\n",
    "    \n",
    "    hist_dict = {}\n",
    "\n",
    "    for i, img in enumerate(images):\n",
    "        x, y = img.shape\n",
    "\n",
    "        hist = cv2.calcHist([img],[0],None,[256],[0,256])\n",
    "        hist_norm = hist / (x * y)\n",
    "\n",
    "        name = img_names[i]\n",
    "        hist_dict[name] = hist_norm \n",
    "\n",
    "    all_hist.append(hist_dict)\n",
    "    \n",
    "    print(len(hist_dict))\n",
    "    \n",
    "    # guarda el objeto:\n",
    "    pickle.dump(all_hist, open('histogram_landmarks_' + str(l) +'.sav', 'wb'))\n",
    "    # por algun motivo no genera los .sav"
   ]
  },
  {
   "cell_type": "code",
   "execution_count": 32,
   "metadata": {},
   "outputs": [],
   "source": [
    "def Normalize(images):\n",
    "    \n",
    "    \n",
    "    \n",
    "    for img in images:\n",
    "        \n",
    "    \n",
    "        stdR = np.std(image) #Calculamos la varianza para cada espacio de color\n",
    "\n",
    "        R = np.mean(image) #La mediana de cada espacio de color\n",
    "\n",
    "        image = image - R\n",
    "\n",
    "\n",
    "        image = image/stdR\n",
    "\n",
    "\n",
    "        minimoR = np.min(image)\n",
    "\n",
    "\n",
    "        image = image-minimoR # Restamos el valor minimo de cada espacio para que el valor mas bajo sea 0\n",
    "\n",
    "\n",
    "        maximoR = np.max(image) \n",
    "\n",
    "\n",
    "        factorR = 1/maximoR #Calculamos el factor escala por el que hay que multiplicar cada espacio para que su valor maximo sea 1\n",
    "\n",
    "\n",
    "        image = image * factorR #Operamos de modo que cada color tiene sus valores comprendidos entre [0,1]\n",
    "\n",
    "    return image"
   ]
  },
  {
   "cell_type": "code",
   "execution_count": 36,
   "metadata": {
    "scrolled": true
   },
   "outputs": [
    {
     "data": {
      "image/png": "[encoded data removed]",
      "text/plain": [
       "<Figure size 432x288 with 1 Axes>"
      ]
     },
     "metadata": {
      "needs_background": "light"
     },
     "output_type": "display_data"
    }
   ],
   "source": [
    "new_hist = Normalize(images[0])\n",
    "\n",
    "plt.hist(new_hist, bins=10)\n",
    "plt.show()"
   ]
  },
  {
   "cell_type": "code",
   "execution_count": null,
   "metadata": {},
   "outputs": [],
   "source": [
    "def histeq(im,nbr_bins=256):\n",
    "\n",
    "    #get image histogram\n",
    "    imhist,bins = np.histogram(im.flatten(),nbr_bins,normed=True)\n",
    "    cdf = imhist.cumsum() #cumulative distribution function\n",
    "    cdf = 255 * cdf / cdf[-1] #normalize\n",
    "\n",
    "    #use linear interpolation of cdf to find new pixel values\n",
    "    im2 = np.interp(im.flatten(),bins[:-1],cdf)\n",
    "\n",
    "    return im2.reshape(im.shape), cdf"
   ]
  },
  {
   "cell_type": "code",
   "execution_count": 40,
   "metadata": {},
   "outputs": [
    {
     "data": {
      "image/png": "[encoded data removed]",
      "text/plain": [
       "<Figure size 432x288 with 1 Axes>"
      ]
     },
     "metadata": {
      "needs_background": "light"
     },
     "output_type": "display_data"
    }
   ],
   "source": [
    "\n",
    "stds = []\n",
    "means = []\n",
    "\n",
    "for img in images:\n",
    "    stds.append(np.std(img))\n",
    "    means.append(np.mean(img))\n",
    "\n",
    "desviation = np.mean(stds)\n",
    "mean = np.mean(means)\n",
    "\n",
    "for img in images:\n",
    "    img = img - mean\n",
    "    img = img/desviation\n",
    "    minimo = np.min(img)\n",
    "    img = img - minimo\n",
    "    maximo = np.max(img)\n",
    "    factor = 1/maximo\n",
    "    img = img*factor\n",
    "    \n",
    "    \n",
    "    \n",
    "plt.hist(images[0], bins=10)\n",
    "plt.show()\n",
    "    \n",
    "    "
   ]
  }
 ],
 "metadata": {
  "kernelspec": {
   "display_name": "Python 3",
   "language": "python",
   "name": "python3"
  },
  "language_info": {
   "codemirror_mode": {
    "name": "ipython",
    "version": 3
   },
   "file_extension": ".py",
   "mimetype": "text/x-python",
   "name": "python",
   "nbconvert_exporter": "python",
   "pygments_lexer": "ipython3",
   "version": "3.8.5"
  }
 },
 "nbformat": 4,
 "nbformat_minor": 2
}
