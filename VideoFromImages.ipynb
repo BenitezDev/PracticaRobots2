{
 "cells": [
  {
   "cell_type": "code",
   "execution_count": 1,
   "metadata": {},
   "outputs": [],
   "source": [
    "import cv2\n",
    "import numpy as np\n",
    "import glob\n",
    "\n",
    "\n",
    "import os\n",
    "import matplotlib.pyplot as plt \n",
    "import pickle\n",
    "import pathlib\n",
    "import random\n",
    "from PIL import Image\n",
    "import os, sys\n",
    "\n",
    "\n",
    "directory = \"D:\\\\Robots\\\\PracticaRobots2\\\\\" # cambiar aqui"
   ]
  },
  {
   "cell_type": "code",
   "execution_count": 5,
   "metadata": {},
   "outputs": [],
   "source": [
    "# Resimensiono todas las imagenes \n",
    "output_dimension = (848, 480)\n",
    "\n",
    "for i in range(9):\n",
    "    for filename in glob.glob(directory + 'landmarks_img/' + str(i) + '/*.jpg'):\n",
    "        im = Image.open(filename)\n",
    "        imResize = im.resize(output_dimension, Image.ANTIALIAS)\n",
    "        imResize.save(filename, quality=100)\n",
    "        \n",
    "        "
   ]
  },
  {
   "cell_type": "markdown",
   "metadata": {},
   "source": [
    "Se hace un video con todas las imágenes de un landmark"
   ]
  },
  {
   "cell_type": "code",
   "execution_count": 8,
   "metadata": {},
   "outputs": [],
   "source": [
    "for i in range(9):\n",
    "    img_array = []\n",
    "    dirs = glob.glob(directory + 'landmarks_img/' + str(i) + '/*.jpg')\n",
    "    dirs.sort()\n",
    "    for filename in dirs:\n",
    "        img = cv2.imread(filename)\n",
    "        height, width, layers = img.shape\n",
    "        size = (width,height)\n",
    "        img_array.append(img)\n",
    "\n",
    "\n",
    "    out = cv2.VideoWriter('landmarks_' + str(i) + '.avi',cv2.VideoWriter_fourcc(*'DIVX'), 15, size)\n",
    "\n",
    "    for i in range(len(img_array)):\n",
    "        out.write(img_array[i])\n",
    "    out.release()"
   ]
  }
 ],
 "metadata": {
  "kernelspec": {
   "display_name": "Python 3",
   "language": "python",
   "name": "python3"
  },
  "language_info": {
   "codemirror_mode": {
    "name": "ipython",
    "version": 3
   },
   "file_extension": ".py",
   "mimetype": "text/x-python",
   "name": "python",
   "nbconvert_exporter": "python",
   "pygments_lexer": "ipython3",
   "version": "3.6.9"
  }
 },
 "nbformat": 4,
 "nbformat_minor": 2
}
