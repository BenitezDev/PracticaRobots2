{
 "cells": [
  {
   "cell_type": "code",
   "execution_count": 3,
   "metadata": {},
   "outputs": [],
   "source": [
    "import cv2\n",
    "import numpy as np\n",
    "import glob\n",
    "\n",
    "\n",
    "import os\n",
    "import matplotlib.pyplot as plt \n",
    "import pickle\n",
    "import pathlib\n",
    "import random\n",
    "from PIL import Image\n",
    "import os, sys\n",
    "\n",
    "\n",
    "directory = \"D:\\\\Robots\\\\git\\\\PracticaRobots2\\\\\" # cambiar aqui"
   ]
  },
  {
   "cell_type": "code",
   "execution_count": 5,
   "metadata": {},
   "outputs": [],
   "source": [
    "# Resimensiono todas las imagenes \n",
    "output_dimension = (848, 480)\n",
    "\n",
    "for i in range(9):\n",
    "    for filename in glob.glob(directory + 'landmarks_img/' + str(i) + '/*.jpg'):\n",
    "        im = Image.open(filename)\n",
    "        imResize = im.resize(output_dimension, Image.ANTIALIAS)\n",
    "        imResize.save(filename, quality=100)\n",
    "        \n",
    "        "
   ]
  },
  {
   "cell_type": "markdown",
   "metadata": {},
   "source": [
    "Se hace un video con todas las imágenes de un landmark"
   ]
  },
  {
   "cell_type": "code",
   "execution_count": 8,
   "metadata": {},
   "outputs": [],
   "source": [
    "for i in range(9):\n",
    "    img_array = []\n",
    "    dirs = glob.glob(directory + 'landmarks_img/' + str(i) + '/*.jpg')\n",
    "    dirs.sort()\n",
    "    for filename in dirs:\n",
    "        img = cv2.imread(filename)\n",
    "        height, width, layers = img.shape\n",
    "        size = (width,height)\n",
    "        img_array.append(img)\n",
    "\n",
    "\n",
    "    out = cv2.VideoWriter('landmarks_' + str(i) + '.avi',cv2.VideoWriter_fourcc(*'DIVX'), 15, size)\n",
    "\n",
    "    for i in range(len(img_array)):\n",
    "        out.write(img_array[i])\n",
    "    out.release()"
   ]
  },
  {
   "cell_type": "markdown",
   "metadata": {},
   "source": [
    "Renombrar imagenes de carpeta:"
   ]
  },
  {
   "cell_type": "code",
   "execution_count": 19,
   "metadata": {},
   "outputs": [],
   "source": [
    "if True:\n",
    "    folder = 6\n",
    "    \n",
    "    for i in range(9):\n",
    "        filenames = [img for img in glob.glob(directory + \"landmarks_img/\" + str(i) +\"/*.jpg\")]\n",
    "\n",
    "        f=0    \n",
    "        for img in pathlib.Path(directory + \"landmarks_img/\" + str(i)).iterdir():\n",
    "             if img.is_file():\n",
    "\n",
    "                old_name = img.stem\n",
    "\n",
    "                old_extension = img.suffix\n",
    "\n",
    "                new_name = 'landmark_' + str(i) + '_frame_' + str(f) + old_extension\n",
    "\n",
    "                img.rename(pathlib.Path(directory + 'landmarks_img/'+ str(i), new_name))\n",
    "                f+=1"
   ]
  }
 ],
 "metadata": {
  "kernelspec": {
   "display_name": "Python 3",
   "language": "python",
   "name": "python3"
  },
  "language_info": {
   "codemirror_mode": {
    "name": "ipython",
    "version": 3
   },
   "file_extension": ".py",
   "mimetype": "text/x-python",
   "name": "python",
   "nbconvert_exporter": "python",
   "pygments_lexer": "ipython3",
   "version": "3.8.5"
  }
 },
 "nbformat": 4,
 "nbformat_minor": 2
}
