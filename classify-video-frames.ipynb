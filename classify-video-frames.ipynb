{
 "cells": [
  {
   "cell_type": "markdown",
   "metadata": {},
   "source": [
    "# Etiquetado manual de todos los frames del video"
   ]
  },
  {
   "cell_type": "markdown",
   "metadata": {},
   "source": [
    "Robots Autónomos. Mapas Topológicos visuales\n",
    "\n",
    "Autores:\n",
    "    Alejandro Benítez López, Elena Benito Frey, Mario González Carbayo, Isidro López Dominguez, Blanca Martínez Donoso y Ángel Pavón Pérez"
   ]
  },
  {
   "cell_type": "code",
   "execution_count": 1,
   "metadata": {},
   "outputs": [],
   "source": [
    "import os\n",
    "import cv2 \n",
    "import pickle\n",
    "import numpy as np\n",
    "\n",
    "directory = os.getcwd() + \"/\""
   ]
  },
  {
   "cell_type": "markdown",
   "metadata": {},
   "source": [
    "### Etiqueta los frames de un video"
   ]
  },
  {
   "cell_type": "markdown",
   "metadata": {},
   "source": [
    "Se etiquetan todos los frames de un video dependiendo de a que landmark pertenece este."
   ]
  },
  {
   "cell_type": "code",
   "execution_count": 2,
   "metadata": {},
   "outputs": [],
   "source": [
    "# se carga el video\n",
    "cap = cv2.VideoCapture(directory + 'walk-through.mp4') \n",
    "# se calcula el numero de frames del video\n",
    "total = int(cap.get(cv2.CAP_PROP_FRAME_COUNT))\n",
    "\n",
    "output_dimension = (848, 480)\n",
    "\n",
    "# se crea un array de n dimensiones siendo n el numero de frames\n",
    "frames = np.zeros(total)\n",
    "\n",
    "current_landmark = 0\n",
    "frame_count = 0\n",
    "\n",
    "while(True):\n",
    "    ret, frame = cap.read()\n",
    "\n",
    "    if ret:\n",
    "        # se redimensiona la imagen\n",
    "        ri = cv2.resize(frame, output_dimension)\n",
    "        \n",
    "        cv2.imshow('walk-through',ri)\n",
    "\n",
    "        k = cv2.waitKey(10) \n",
    "        if k & 0xFF == ord('q'):\n",
    "            break\n",
    "        \n",
    "        # dependiendo de que tecla numerica se usa (0-8) se asigna ese numero de landmark a la imagen.\n",
    "        # hasta que no se vuelva a pulsar otro numero, se utilizara el ultimo que se ha pulsado\n",
    "        if k >= 48 and k <= 57: \n",
    "            current_landmark = (int(k) - 48)\n",
    "\n",
    "        frames[frame_count] = current_landmark\n",
    "        frame_count+=1\n",
    "\n",
    "    else:\n",
    "        break\n",
    "\n",
    "cap.release()\n",
    "cv2.destroyAllWindows()  \n",
    "\n",
    "frames = np.asarray(frames, dtype=np.uint8)\n",
    "for f in frames:\n",
    "    i = int(frames[f])\n",
    "    frames[f] = i\n",
    "\n",
    "# se guarda el local la etiquetacion de los frames\n",
    "pickle.dump(frames, open('clasificacion_frames.sav', 'wb'))"
   ]
  }
 ],
 "metadata": {
  "kernelspec": {
   "display_name": "Python 3",
   "language": "python",
   "name": "python3"
  },
  "language_info": {
   "codemirror_mode": {
    "name": "ipython",
    "version": 3
   },
   "file_extension": ".py",
   "mimetype": "text/x-python",
   "name": "python",
   "nbconvert_exporter": "python",
   "pygments_lexer": "ipython3",
   "version": "3.8.5"
  }
 },
 "nbformat": 4,
 "nbformat_minor": 2
}
